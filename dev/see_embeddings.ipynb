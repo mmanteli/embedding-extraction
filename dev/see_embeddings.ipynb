{
 "cells": [
  {
   "cell_type": "markdown",
   "metadata": {},
   "source": [
    "# Looking how the query affects the results\n",
    "\n",
    "Idea of these query models is to create embeddings in a way that you prepend a query to the input. Here the idea is to see that if a query is prepended to the first text, how does it affect the others."
   ]
  },
  {
   "cell_type": "code",
   "execution_count": 6,
   "metadata": {},
   "outputs": [],
   "source": [
    "! pip -q install torch\n",
    "! pip -q install datasets"
   ]
  },
  {
   "cell_type": "code",
   "execution_count": 2,
   "metadata": {},
   "outputs": [
    {
     "name": "stderr",
     "output_type": "stream",
     "text": [
      "/users/mynttiam/.local/lib/python3.6/site-packages/tqdm/auto.py:22: TqdmWarning: IProgress not found. Please update jupyter and ipywidgets. See https://ipywidgets.readthedocs.io/en/stable/user_install.html\n",
      "  from .autonotebook import tqdm as notebook_tqdm\n"
     ]
    }
   ],
   "source": [
    "import torch"
   ]
  },
  {
   "cell_type": "code",
   "execution_count": 3,
   "metadata": {},
   "outputs": [
    {
     "name": "stdout",
     "output_type": "stream",
     "text": [
      "Do the document embeddings match\n",
      "True\n",
      "Do the query embeddings match\n",
      "False\n"
     ]
    }
   ],
   "source": [
    "BTM = torch.load(\"e5_BitextMining.pt\")\n",
    "STS = torch.load(\"e5_STS.pt\")\n",
    "\n",
    "num_queries = 4  # known from previous\n",
    "\n",
    "print(\"Do the document embeddings match\")\n",
    "print(torch.equal(BTM[num_queries:], STS[num_queries:]))\n",
    "print(\"Do the query embeddings match\")\n",
    "print(torch.equal(BTM[:num_queries], STS[:num_queries]))"
   ]
  },
  {
   "cell_type": "markdown",
   "metadata": {},
   "source": [
    "## Result\n",
    "\n",
    "It does not affect the others. Conclusions:\n",
    "\n",
    "1. Prepend to all\n",
    "2. Prepend to none"
   ]
  },
  {
   "cell_type": "markdown",
   "metadata": {},
   "source": [
    "# Format: pickle\n",
    "\n",
    "Testing if the pickle format results in readable material."
   ]
  },
  {
   "cell_type": "code",
   "execution_count": 1,
   "metadata": {},
   "outputs": [
    {
     "name": "stderr",
     "output_type": "stream",
     "text": [
      "/users/mynttiam/.local/lib/python3.6/site-packages/tqdm/auto.py:22: TqdmWarning: IProgress not found. Please update jupyter and ipywidgets. See https://ipywidgets.readthedocs.io/en/stable/user_install.html\n",
      "  from .autonotebook import tqdm as notebook_tqdm\n"
     ]
    }
   ],
   "source": [
    "import pickle\n",
    "import datasets\n",
    "import pandas as pd"
   ]
  },
  {
   "cell_type": "code",
   "execution_count": 3,
   "metadata": {},
   "outputs": [
    {
     "name": "stdout",
     "output_type": "stream",
     "text": [
      "{'id': '1', 'offset': 0, 'register': ['IN', 'lt'], 'text': 'By using Strip Dir to strip this website (alanhodges.com) you agree to the following terms:\\n- You are at least 18 years of age\\n- All persons included in any image/photograph are all at least 18 years ', 'embeddings': array([ 0.02236912,  0.01013858, -0.01388297, ..., -0.02474819,\n",
      "       -0.05009585,  0.02212661], dtype=float32)}\n",
      "{'id': '1', 'offset': 200, 'register': ['IN', 'lt'], 'text': 'of age\\n- No images/photographs depict any illegal acts or violate laws as they apply within the European Union\\n- Strip Dir is not responsible for any of the user submitted content, this lies with the ', 'embeddings': array([-0.00265769, -0.01907739, -0.00808461, ..., -0.01581491,\n",
      "       -0.05677147,  0.00696049], dtype=float32)}\n",
      "{'id': '1', 'offset': 400, 'register': ['IN', 'lt'], 'text': 'original submitting user\\n- Your IP address (207.241.237.220) will be recorded and may be used in the event you violate these terms\\nWe are trying to keep Strip Dir nice and clean, without any nasty pic', 'embeddings': array([-0.02288762,  0.02440182, -0.01445042, ..., -0.02011144,\n",
      "       -0.04666856,  0.01131303], dtype=float32)}\n",
      "{'id': '1', 'offset': 600, 'register': ['IN', 'lt'], 'text': 'tures that violate laws and lives!', 'embeddings': array([ 0.00922741,  0.02400758, -0.00457421, ..., -0.03831207,\n",
      "       -0.05150421, -0.0093346 ], dtype=float32)}\n",
      "-------------\n",
      "{'id': '2', 'offset': 0, 'register': ['IN'], 'text': 'Provalo! Iscriviti a Pinterest oggi stesso... ci vuole solo un secondo o poco più.\\nContent\\nUnderstanding the Complex Brain of a Copywriter #copywriting #mktg #seo\\n10 strategies for turning your online', 'embeddings': array([-0.00278609,  0.01371913,  0.01607696, ..., -0.0111638 ,\n",
      "       -0.02821269,  0.0126878 ], dtype=float32)}\n",
      "{'id': '2', 'offset': 200, 'register': ['IN'], 'text': ' presence #infografia #infographic #marketing\\n11 Essential Ingredients Every Blog Post Needs [Infographic] - Copyblogger\\n16 steps to successful content marketing.\\nKiller Headlines: The Key to Your Web', 'embeddings': array([ 0.02653869,  0.00628167, -0.00698495, ..., -0.02389765,\n",
      "       -0.03486093,  0.03149549], dtype=float32)}\n",
      "{'id': '2', 'offset': 400, 'register': ['IN'], 'text': \"site's Success. More useful tips for writing headlines that pull in readers www.nonprofitcopy....\\n4 U’s of Web Copywriting: Tips for Writing Great Headlines & Copy\\nQuick Reference Guide to #Content Cr\", 'embeddings': array([ 0.00782612,  0.00410812,  0.01573327, ..., -0.00535909,\n",
      "       -0.02453772, -0.01381909], dtype=float32)}\n",
      "{'id': '2', 'offset': 600, 'register': ['IN'], 'text': 'eation #infographic #contentmarketing\\n#ContentMarketing - Why Content Marketers Do What They Do', 'embeddings': array([ 0.01428681,  0.01594975, -0.02867277, ..., -0.02447137,\n",
      "       -0.03100547,  0.00110468], dtype=float32)}\n",
      "-------------\n",
      "{'id': '3', 'offset': 0, 'register': ['IN', 'lt'], 'text': 'Woo woo this is a short test string.', 'embeddings': array([ 0.00156308,  0.0039536 , -0.00868536, ..., -0.04427195,\n",
      "       -0.02533951,  0.0209051 ], dtype=float32)}\n",
      "-------------\n",
      "{'id': '4', 'offset': 0, 'register': ['IN'], 'text': 'Provalo! Iscriviti a Pinterest oggi stesso... ci vuole solo un secondo o poco più.\\nContent\\nUnderstanding the Complex Brain of a Copywriter #copywriting #mktg #seo\\n10 strategies for turning your online', 'embeddings': array([-0.00278609,  0.01371913,  0.01607696, ..., -0.0111638 ,\n",
      "       -0.02821269,  0.0126878 ], dtype=float32)}\n",
      "{'id': '4', 'offset': 200, 'register': ['IN'], 'text': ' presence #infografia #infographic #marketing\\n11 Essential Ingredients Every Blog Post Needs [Infographic] - Copyblogger\\n16 steps to successful content marketing.\\nKiller Headlines: The Key to Your Web', 'embeddings': array([ 0.02653869,  0.00628167, -0.00698495, ..., -0.02389765,\n",
      "       -0.03486093,  0.03149549], dtype=float32)}\n",
      "{'id': '4', 'offset': 400, 'register': ['IN'], 'text': \"site's Success. More useful tips for writing headlines that pull in readers www.nonprofitcopy....\\n4 U’s of Web Copywriting: Tips for Writing Great Headlines & Copy\\nQuick Reference Guide to #Content Cr\", 'embeddings': array([ 0.00782612,  0.00410812,  0.01573327, ..., -0.00535909,\n",
      "       -0.02453772, -0.01381909], dtype=float32)}\n",
      "{'id': '4', 'offset': 600, 'register': ['IN'], 'text': 'eation #infographic #contentmarketing\\n#ContentMarketing - Why Content Marketers Do What They Do', 'embeddings': array([ 0.01428681,  0.01594975, -0.02867277, ..., -0.02447137,\n",
      "       -0.03100547,  0.00110468], dtype=float32)}\n",
      "-------------\n",
      "{'id': '5', 'offset': 0, 'register': ['IN', 'lt'], 'text': 'By using Strip Dir to strip this website (alanhodges.com) you agree to the following terms:\\n- You are at least 18 years of age\\n- All persons included in any image/photograph are all at least 18 years ', 'embeddings': array([ 0.02236912,  0.01013858, -0.01388297, ..., -0.02474819,\n",
      "       -0.05009585,  0.02212661], dtype=float32)}\n",
      "{'id': '5', 'offset': 200, 'register': ['IN', 'lt'], 'text': 'of age\\n- No images/photographs depict any illegal acts or violate laws as they apply within the European Union\\n- Strip Dir is not responsible for any of the user submitted content, this lies with the ', 'embeddings': array([-0.00265769, -0.01907739, -0.00808461, ..., -0.01581491,\n",
      "       -0.05677147,  0.00696049], dtype=float32)}\n",
      "{'id': '5', 'offset': 400, 'register': ['IN', 'lt'], 'text': 'original submitting user\\n- Your IP address (207.241.237.220) will be recorded and may be used in the event you violate these terms\\nWe are trying to keep Strip Dir nice and clean, without any nasty pic', 'embeddings': array([-0.02288762,  0.02440182, -0.01445042, ..., -0.02011144,\n",
      "       -0.04666856,  0.01131303], dtype=float32)}\n",
      "{'id': '5', 'offset': 600, 'register': ['IN', 'lt'], 'text': 'tures that violate laws and lives!', 'embeddings': array([ 0.00922741,  0.02400758, -0.00457421, ..., -0.03831207,\n",
      "       -0.05150421, -0.0093346 ], dtype=float32)}\n",
      "-------------\n",
      "{'id': '6', 'offset': 0, 'register': ['IN'], 'text': 'Provalo! Iscriviti a Pinterest oggi stesso... ci vuole solo un secondo o poco più.\\nContent\\nUnderstanding the Complex Brain of a Copywriter #copywriting #mktg #seo\\n10 strategies for turning your online', 'embeddings': array([-0.00278609,  0.01371913,  0.01607696, ..., -0.0111638 ,\n",
      "       -0.02821269,  0.0126878 ], dtype=float32)}\n",
      "{'id': '6', 'offset': 200, 'register': ['IN'], 'text': ' presence #infografia #infographic #marketing\\n11 Essential Ingredients Every Blog Post Needs [Infographic] - Copyblogger\\n16 steps to successful content marketing.\\nKiller Headlines: The Key to Your Web', 'embeddings': array([ 0.02653869,  0.00628167, -0.00698495, ..., -0.02389765,\n",
      "       -0.03486093,  0.03149549], dtype=float32)}\n",
      "{'id': '6', 'offset': 400, 'register': ['IN'], 'text': \"site's Success. More useful tips for writing headlines that pull in readers www.nonprofitcopy....\\n4 U’s of Web Copywriting: Tips for Writing Great Headlines & Copy\\nQuick Reference Guide to #Content Cr\", 'embeddings': array([ 0.00782612,  0.00410812,  0.01573327, ..., -0.00535909,\n",
      "       -0.02453772, -0.01381909], dtype=float32)}\n",
      "{'id': '6', 'offset': 600, 'register': ['IN'], 'text': 'eation #infographic #contentmarketing\\n#ContentMarketing - Why Content Marketers Do What They Do', 'embeddings': array([ 0.01428681,  0.01594975, -0.02867277, ..., -0.02447137,\n",
      "       -0.03100547,  0.00110468], dtype=float32)}\n",
      "-------------\n",
      "{'id': '7', 'offset': 0, 'register': ['IN', 'lt'], 'text': 'By using Strip Dir to strip this website (alanhodges.com) you agree to the following terms:\\n- You are at least 18 years of age\\n- All persons included in any image/photograph are all at least 18 years ', 'embeddings': array([ 0.02236912,  0.01013858, -0.01388297, ..., -0.02474819,\n",
      "       -0.05009585,  0.02212661], dtype=float32)}\n",
      "{'id': '7', 'offset': 200, 'register': ['IN', 'lt'], 'text': 'of age\\n- No images/photographs depict any illegal acts or violate laws as they apply within the European Union\\n- Strip Dir is not responsible for any of the user submitted content, this lies with the ', 'embeddings': array([-0.00265769, -0.01907739, -0.00808461, ..., -0.01581491,\n",
      "       -0.05677147,  0.00696049], dtype=float32)}\n",
      "{'id': '7', 'offset': 400, 'register': ['IN', 'lt'], 'text': 'original submitting user\\n- Your IP address (207.241.237.220) will be recorded and may be used in the event you violate these terms\\nWe are trying to keep Strip Dir nice and clean, without any nasty pic', 'embeddings': array([-0.02288762,  0.02440182, -0.01445042, ..., -0.02011144,\n",
      "       -0.04666856,  0.01131303], dtype=float32)}\n",
      "{'id': '7', 'offset': 600, 'register': ['IN', 'lt'], 'text': 'tures that violate laws and lives!', 'embeddings': array([ 0.00922741,  0.02400758, -0.00457421, ..., -0.03831207,\n",
      "       -0.05150421, -0.0093346 ], dtype=float32)}\n",
      "-------------\n",
      "{'id': '8', 'offset': 0, 'register': ['IN'], 'text': 'Provalo! Iscriviti a Pinterest oggi stesso... ci vuole solo un secondo o poco più.\\nContent\\nUnderstanding the Complex Brain of a Copywriter #copywriting #mktg #seo\\n10 strategies for turning your online', 'embeddings': array([-0.00278609,  0.01371913,  0.01607696, ..., -0.0111638 ,\n",
      "       -0.02821269,  0.0126878 ], dtype=float32)}\n",
      "{'id': '8', 'offset': 200, 'register': ['IN'], 'text': ' presence #infografia #infographic #marketing\\n11 Essential Ingredients Every Blog Post Needs [Infographic] - Copyblogger\\n16 steps to successful content marketing.\\nKiller Headlines: The Key to Your Web', 'embeddings': array([ 0.02653869,  0.00628167, -0.00698495, ..., -0.02389765,\n",
      "       -0.03486093,  0.03149549], dtype=float32)}\n",
      "{'id': '8', 'offset': 400, 'register': ['IN'], 'text': \"site's Success. More useful tips for writing headlines that pull in readers www.nonprofitcopy....\\n4 U’s of Web Copywriting: Tips for Writing Great Headlines & Copy\\nQuick Reference Guide to #Content Cr\", 'embeddings': array([ 0.00782612,  0.00410812,  0.01573327, ..., -0.00535909,\n",
      "       -0.02453772, -0.01381909], dtype=float32)}\n",
      "{'id': '8', 'offset': 600, 'register': ['IN'], 'text': 'eation #infographic #contentmarketing\\n#ContentMarketing - Why Content Marketers Do What They Do', 'embeddings': array([ 0.01428681,  0.01594975, -0.02867277, ..., -0.02447137,\n",
      "       -0.03100547,  0.00110468], dtype=float32)}\n",
      "-------------\n",
      "{'id': '9', 'offset': 0, 'register': ['IN', 'lt'], 'text': 'By using Strip Dir to strip this website (alanhodges.com) you agree to the following terms:\\n- You are at least 18 years of age\\n- All persons included in any image/photograph are all at least 18 years ', 'embeddings': array([ 0.02236912,  0.01013858, -0.01388297, ..., -0.02474819,\n",
      "       -0.05009585,  0.02212661], dtype=float32)}\n",
      "{'id': '9', 'offset': 200, 'register': ['IN', 'lt'], 'text': 'of age\\n- No images/photographs depict any illegal acts or violate laws as they apply within the European Union\\n- Strip Dir is not responsible for any of the user submitted content, this lies with the ', 'embeddings': array([-0.00265769, -0.01907739, -0.00808461, ..., -0.01581491,\n",
      "       -0.05677147,  0.00696049], dtype=float32)}\n",
      "{'id': '9', 'offset': 400, 'register': ['IN', 'lt'], 'text': 'original submitting user\\n- Your IP address (207.241.237.220) will be recorded and may be used in the event you violate these terms\\nWe are trying to keep Strip Dir nice and clean, without any nasty pic', 'embeddings': array([-0.02288762,  0.02440182, -0.01445042, ..., -0.02011144,\n",
      "       -0.04666856,  0.01131303], dtype=float32)}\n",
      "{'id': '9', 'offset': 600, 'register': ['IN', 'lt'], 'text': 'tures that violate laws and lives!', 'embeddings': array([ 0.00922741,  0.02400758, -0.00457421, ..., -0.03831207,\n",
      "       -0.05150421, -0.0093346 ], dtype=float32)}\n",
      "-------------\n",
      "{'id': '10', 'offset': 0, 'register': ['IN'], 'text': 'Provalo! Iscriviti a Pinterest oggi stesso... ci vuole solo un secondo o poco più.\\nContent\\nUnderstanding the Complex Brain of a Copywriter #copywriting #mktg #seo\\n10 strategies for turning your online', 'embeddings': array([-0.00278609,  0.01371913,  0.01607696, ..., -0.0111638 ,\n",
      "       -0.02821269,  0.0126878 ], dtype=float32)}\n",
      "{'id': '10', 'offset': 200, 'register': ['IN'], 'text': ' presence #infografia #infographic #marketing\\n11 Essential Ingredients Every Blog Post Needs [Infographic] - Copyblogger\\n16 steps to successful content marketing.\\nKiller Headlines: The Key to Your Web', 'embeddings': array([ 0.02653869,  0.00628167, -0.00698495, ..., -0.02389765,\n",
      "       -0.03486093,  0.03149549], dtype=float32)}\n",
      "{'id': '10', 'offset': 400, 'register': ['IN'], 'text': \"site's Success. More useful tips for writing headlines that pull in readers www.nonprofitcopy....\\n4 U’s of Web Copywriting: Tips for Writing Great Headlines & Copy\\nQuick Reference Guide to #Content Cr\", 'embeddings': array([ 0.00782612,  0.00410812,  0.01573327, ..., -0.00535909,\n",
      "       -0.02453772, -0.01381909], dtype=float32)}\n",
      "{'id': '10', 'offset': 600, 'register': ['IN'], 'text': 'eation #infographic #contentmarketing\\n#ContentMarketing - Why Content Marketers Do What They Do', 'embeddings': array([ 0.01428681,  0.01594975, -0.02867277, ..., -0.02447137,\n",
      "       -0.03100547,  0.00110468], dtype=float32)}\n",
      "-------------\n"
     ]
    },
    {
     "ename": "EOFError",
     "evalue": "Ran out of input",
     "output_type": "error",
     "traceback": [
      "\u001b[0;31m---------------------------------------------------------------------------\u001b[0m",
      "\u001b[0;31mEOFError\u001b[0m                                  Traceback (most recent call last)",
      "\u001b[0;32m<ipython-input-3-d4bf409694a2>\u001b[0m in \u001b[0;36m<module>\u001b[0;34m\u001b[0m\n\u001b[1;32m      1\u001b[0m \u001b[0;32mwith\u001b[0m \u001b[0mopen\u001b[0m\u001b[0;34m(\u001b[0m\u001b[0;34m\"../testi.pkl\"\u001b[0m\u001b[0;34m,\u001b[0m \u001b[0;34m\"rb\"\u001b[0m\u001b[0;34m)\u001b[0m \u001b[0;32mas\u001b[0m \u001b[0mf\u001b[0m\u001b[0;34m:\u001b[0m\u001b[0;34m\u001b[0m\u001b[0;34m\u001b[0m\u001b[0m\n\u001b[1;32m      2\u001b[0m     \u001b[0;32mwhile\u001b[0m \u001b[0;32mTrue\u001b[0m\u001b[0;34m:\u001b[0m\u001b[0;34m\u001b[0m\u001b[0;34m\u001b[0m\u001b[0m\n\u001b[0;32m----> 3\u001b[0;31m         \u001b[0mdataset\u001b[0m \u001b[0;34m=\u001b[0m \u001b[0mpickle\u001b[0m\u001b[0;34m.\u001b[0m\u001b[0mload\u001b[0m\u001b[0;34m(\u001b[0m\u001b[0mf\u001b[0m\u001b[0;34m)\u001b[0m\u001b[0;34m\u001b[0m\u001b[0;34m\u001b[0m\u001b[0m\n\u001b[0m\u001b[1;32m      4\u001b[0m         \u001b[0;31m#print(dataset)\u001b[0m\u001b[0;34m\u001b[0m\u001b[0;34m\u001b[0m\u001b[0;34m\u001b[0m\u001b[0m\n\u001b[1;32m      5\u001b[0m         \u001b[0;32mfor\u001b[0m \u001b[0md\u001b[0m \u001b[0;32min\u001b[0m \u001b[0mdataset\u001b[0m\u001b[0;34m:\u001b[0m\u001b[0;34m\u001b[0m\u001b[0;34m\u001b[0m\u001b[0m\n",
      "\u001b[0;31mEOFError\u001b[0m: Ran out of input"
     ]
    }
   ],
   "source": [
    "with open(\"../testi.pkl\", \"rb\") as f:\n",
    "    while True:\n",
    "        dataset = pickle.load(f)\n",
    "        #print(dataset)\n",
    "        for d in dataset:\n",
    "            print(d)\n",
    "        print(\"-------------\")"
   ]
  },
  {
   "cell_type": "code",
   "execution_count": null,
   "metadata": {},
   "outputs": [],
   "source": []
  }
 ],
 "metadata": {
  "kernelspec": {
   "display_name": "Python 3",
   "language": "python",
   "name": "python3"
  },
  "language_info": {
   "codemirror_mode": {
    "name": "ipython",
    "version": 3
   },
   "file_extension": ".py",
   "mimetype": "text/x-python",
   "name": "python",
   "nbconvert_exporter": "python",
   "pygments_lexer": "ipython3",
   "version": "3.6.15"
  }
 },
 "nbformat": 4,
 "nbformat_minor": 2
}
