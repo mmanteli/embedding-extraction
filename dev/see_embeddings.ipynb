{
 "cells": [
  {
   "cell_type": "code",
   "execution_count": 2,
   "metadata": {},
   "outputs": [],
   "source": [
    "! pip -q install torch"
   ]
  },
  {
   "cell_type": "code",
   "execution_count": 3,
   "metadata": {},
   "outputs": [
    {
     "name": "stderr",
     "output_type": "stream",
     "text": [
      "/users/mynttiam/.local/lib/python3.6/site-packages/tqdm/auto.py:22: TqdmWarning: IProgress not found. Please update jupyter and ipywidgets. See https://ipywidgets.readthedocs.io/en/stable/user_install.html\n",
      "  from .autonotebook import tqdm as notebook_tqdm\n"
     ]
    }
   ],
   "source": [
    "import torch"
   ]
  },
  {
   "cell_type": "code",
   "execution_count": 7,
   "metadata": {},
   "outputs": [
    {
     "name": "stdout",
     "output_type": "stream",
     "text": [
      "Do the document embeddings match\n",
      "True\n",
      "Do the query embeddings match\n",
      "False\n"
     ]
    }
   ],
   "source": [
    "BTM = torch.load(\"e5_BitextMining.pt\")\n",
    "STS = torch.load(\"e5_STS.pt\")\n",
    "\n",
    "num_queries = 4  # known from previous\n",
    "\n",
    "print(\"Do the document embeddings match\")\n",
    "print(torch.equal(BTM[num_queries:], STS[num_queries:]))\n",
    "print(\"Do the query embeddings match\")\n",
    "print(torch.equal(BTM[:num_queries], STS[:num_queries]))"
   ]
  }
 ],
 "metadata": {
  "kernelspec": {
   "display_name": "Python 3",
   "language": "python",
   "name": "python3"
  },
  "language_info": {
   "codemirror_mode": {
    "name": "ipython",
    "version": 3
   },
   "file_extension": ".py",
   "mimetype": "text/x-python",
   "name": "python",
   "nbconvert_exporter": "python",
   "pygments_lexer": "ipython3",
   "version": "3.6.15"
  }
 },
 "nbformat": 4,
 "nbformat_minor": 2
}
