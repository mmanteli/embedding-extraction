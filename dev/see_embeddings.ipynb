{
 "cells": [
  {
   "cell_type": "markdown",
   "metadata": {},
   "source": [
    "# Looking how the query affects the results\n",
    "\n",
    "Idea of these query models is to create embeddings in a way that you prepend a query to the input. Here the idea is to see that if a query is prepended to the first text, how does it affect the others."
   ]
  },
  {
   "cell_type": "code",
   "execution_count": 6,
   "metadata": {},
   "outputs": [],
   "source": [
    "! pip -q install torch\n",
    "! pip -q install datasets"
   ]
  },
  {
   "cell_type": "code",
   "execution_count": 2,
   "metadata": {},
   "outputs": [
    {
     "name": "stderr",
     "output_type": "stream",
     "text": [
      "/users/mynttiam/.local/lib/python3.6/site-packages/tqdm/auto.py:22: TqdmWarning: IProgress not found. Please update jupyter and ipywidgets. See https://ipywidgets.readthedocs.io/en/stable/user_install.html\n",
      "  from .autonotebook import tqdm as notebook_tqdm\n"
     ]
    }
   ],
   "source": [
    "import torch"
   ]
  },
  {
   "cell_type": "code",
   "execution_count": 3,
   "metadata": {},
   "outputs": [
    {
     "name": "stdout",
     "output_type": "stream",
     "text": [
      "Do the document embeddings match\n",
      "True\n",
      "Do the query embeddings match\n",
      "False\n"
     ]
    }
   ],
   "source": [
    "BTM = torch.load(\"e5_BitextMining.pt\")\n",
    "STS = torch.load(\"e5_STS.pt\")\n",
    "\n",
    "num_queries = 4  # known from previous\n",
    "\n",
    "print(\"Do the document embeddings match\")\n",
    "print(torch.equal(BTM[num_queries:], STS[num_queries:]))\n",
    "print(\"Do the query embeddings match\")\n",
    "print(torch.equal(BTM[:num_queries], STS[:num_queries]))"
   ]
  },
  {
   "cell_type": "markdown",
   "metadata": {},
   "source": [
    "## Result\n",
    "\n",
    "It does not affect the others. Conclusions:\n",
    "\n",
    "1. Prepend to all\n",
    "2. Prepend to none"
   ]
  },
  {
   "cell_type": "markdown",
   "metadata": {},
   "source": [
    "# Format: pickle\n",
    "\n",
    "Testing if the pickle format results in readable material."
   ]
  },
  {
   "cell_type": "code",
   "execution_count": 1,
   "metadata": {},
   "outputs": [],
   "source": [
    "import pickle"
   ]
  },
  {
   "cell_type": "code",
   "execution_count": 9,
   "metadata": {},
   "outputs": [
    {
     "name": "stdout",
     "output_type": "stream",
     "text": [
      "{'id': '1', 'offset': None, 'register': ['IN', 'lt'], 'text': 'By using Strip Dir to strip this website (alanhodges.com) you agree to the following terms:\\n- You are at least 18 years of age\\n- All persons included in any image/photograph are all at least 18 years of age\\n- No images/photographs depict any illegal acts or violate laws as they apply within the European Union\\n- Strip Dir is not responsible for any of the user submitted content, this lies with the original submitting user\\n- Your IP address (207.241.237.220) will be recorded and may be used in the event you violate these terms\\nWe are trying to keep Strip Dir nice and clean, without any nasty pictures that violate laws and lives!', 'embeddings': array([ 0.00106434,  0.0115186 , -0.00410124, ..., -0.02769748,\n",
      "       -0.05384639,  0.02348485], dtype=float32)}\n",
      "-------------\n",
      "{'id': '2', 'offset': None, 'register': ['IN'], 'text': \"Provalo! Iscriviti a Pinterest oggi stesso... ci vuole solo un secondo o poco più.\\nContent\\nUnderstanding the Complex Brain of a Copywriter #copywriting #mktg #seo\\n10 strategies for turning your online presence #infografia #infographic #marketing\\n11 Essential Ingredients Every Blog Post Needs [Infographic] - Copyblogger\\n16 steps to successful content marketing.\\nKiller Headlines: The Key to Your Website's Success. More useful tips for writing headlines that pull in readers www.nonprofitcopy....\\n4 U’s of Web Copywriting: Tips for Writing Great Headlines & Copy\\nQuick Reference Guide to #Content Creation #infographic #contentmarketing\\n#ContentMarketing - Why Content Marketers Do What They Do\", 'embeddings': array([ 0.00958741,  0.00609514,  0.02108929, ..., -0.01749452,\n",
      "       -0.03314401,  0.00367272], dtype=float32)}\n",
      "-------------\n",
      "{'id': '3', 'offset': None, 'register': ['IN', 'lt'], 'text': 'Woo woo this is a short test string.', 'embeddings': array([ 0.00156308,  0.0039536 , -0.00868536, ..., -0.04427195,\n",
      "       -0.02533951,  0.0209051 ], dtype=float32)}\n",
      "-------------\n",
      "{'id': '4', 'offset': None, 'register': ['IN'], 'text': \"Provalo! Iscriviti a Pinterest oggi stesso... ci vuole solo un secondo o poco più.\\nContent\\nUnderstanding the Complex Brain of a Copywriter #copywriting #mktg #seo\\n10 strategies for turning your online presence #infografia #infographic #marketing\\n11 Essential Ingredients Every Blog Post Needs [Infographic] - Copyblogger\\n16 steps to successful content marketing.\\nKiller Headlines: The Key to Your Website's Success. More useful tips for writing headlines that pull in readers www.nonprofitcopy....\\n4 U’s of Web Copywriting: Tips for Writing Great Headlines & Copy\\nQuick Reference Guide to #Content Creation #infographic #contentmarketing\\n#ContentMarketing - Why Content Marketers Do What They Do\", 'embeddings': array([ 0.00958741,  0.00609514,  0.02108929, ..., -0.01749452,\n",
      "       -0.03314401,  0.00367272], dtype=float32)}\n",
      "-------------\n",
      "{'id': '5', 'offset': None, 'register': ['IN', 'lt'], 'text': 'By using Strip Dir to strip this website (alanhodges.com) you agree to the following terms:\\n- You are at least 18 years of age\\n- All persons included in any image/photograph are all at least 18 years of age\\n- No images/photographs depict any illegal acts or violate laws as they apply within the European Union\\n- Strip Dir is not responsible for any of the user submitted content, this lies with the original submitting user\\n- Your IP address (207.241.237.220) will be recorded and may be used in the event you violate these terms\\nWe are trying to keep Strip Dir nice and clean, without any nasty pictures that violate laws and lives!', 'embeddings': array([ 0.00106434,  0.0115186 , -0.00410124, ..., -0.02769748,\n",
      "       -0.05384639,  0.02348485], dtype=float32)}\n",
      "-------------\n",
      "{'id': '6', 'offset': None, 'register': ['IN'], 'text': \"Provalo! Iscriviti a Pinterest oggi stesso... ci vuole solo un secondo o poco più.\\nContent\\nUnderstanding the Complex Brain of a Copywriter #copywriting #mktg #seo\\n10 strategies for turning your online presence #infografia #infographic #marketing\\n11 Essential Ingredients Every Blog Post Needs [Infographic] - Copyblogger\\n16 steps to successful content marketing.\\nKiller Headlines: The Key to Your Website's Success. More useful tips for writing headlines that pull in readers www.nonprofitcopy....\\n4 U’s of Web Copywriting: Tips for Writing Great Headlines & Copy\\nQuick Reference Guide to #Content Creation #infographic #contentmarketing\\n#ContentMarketing - Why Content Marketers Do What They Do\", 'embeddings': array([ 0.00958741,  0.00609514,  0.02108929, ..., -0.01749452,\n",
      "       -0.03314401,  0.00367272], dtype=float32)}\n",
      "-------------\n",
      "{'id': '7', 'offset': None, 'register': ['IN', 'lt'], 'text': 'By using Strip Dir to strip this website (alanhodges.com) you agree to the following terms:\\n- You are at least 18 years of age\\n- All persons included in any image/photograph are all at least 18 years of age\\n- No images/photographs depict any illegal acts or violate laws as they apply within the European Union\\n- Strip Dir is not responsible for any of the user submitted content, this lies with the original submitting user\\n- Your IP address (207.241.237.220) will be recorded and may be used in the event you violate these terms\\nWe are trying to keep Strip Dir nice and clean, without any nasty pictures that violate laws and lives!', 'embeddings': array([ 0.00106434,  0.0115186 , -0.00410124, ..., -0.02769748,\n",
      "       -0.05384639,  0.02348485], dtype=float32)}\n",
      "-------------\n",
      "{'id': '8', 'offset': None, 'register': ['IN'], 'text': \"Provalo! Iscriviti a Pinterest oggi stesso... ci vuole solo un secondo o poco più.\\nContent\\nUnderstanding the Complex Brain of a Copywriter #copywriting #mktg #seo\\n10 strategies for turning your online presence #infografia #infographic #marketing\\n11 Essential Ingredients Every Blog Post Needs [Infographic] - Copyblogger\\n16 steps to successful content marketing.\\nKiller Headlines: The Key to Your Website's Success. More useful tips for writing headlines that pull in readers www.nonprofitcopy....\\n4 U’s of Web Copywriting: Tips for Writing Great Headlines & Copy\\nQuick Reference Guide to #Content Creation #infographic #contentmarketing\\n#ContentMarketing - Why Content Marketers Do What They Do\", 'embeddings': array([ 0.00958741,  0.00609514,  0.02108929, ..., -0.01749452,\n",
      "       -0.03314401,  0.00367272], dtype=float32)}\n",
      "-------------\n",
      "{'id': '9', 'offset': None, 'register': ['IN', 'lt'], 'text': 'By using Strip Dir to strip this website (alanhodges.com) you agree to the following terms:\\n- You are at least 18 years of age\\n- All persons included in any image/photograph are all at least 18 years of age\\n- No images/photographs depict any illegal acts or violate laws as they apply within the European Union\\n- Strip Dir is not responsible for any of the user submitted content, this lies with the original submitting user\\n- Your IP address (207.241.237.220) will be recorded and may be used in the event you violate these terms\\nWe are trying to keep Strip Dir nice and clean, without any nasty pictures that violate laws and lives!', 'embeddings': array([ 0.00106434,  0.0115186 , -0.00410124, ..., -0.02769748,\n",
      "       -0.05384639,  0.02348485], dtype=float32)}\n",
      "-------------\n",
      "{'id': '10', 'offset': None, 'register': ['IN'], 'text': \"Provalo! Iscriviti a Pinterest oggi stesso... ci vuole solo un secondo o poco più.\\nContent\\nUnderstanding the Complex Brain of a Copywriter #copywriting #mktg #seo\\n10 strategies for turning your online presence #infografia #infographic #marketing\\n11 Essential Ingredients Every Blog Post Needs [Infographic] - Copyblogger\\n16 steps to successful content marketing.\\nKiller Headlines: The Key to Your Website's Success. More useful tips for writing headlines that pull in readers www.nonprofitcopy....\\n4 U’s of Web Copywriting: Tips for Writing Great Headlines & Copy\\nQuick Reference Guide to #Content Creation #infographic #contentmarketing\\n#ContentMarketing - Why Content Marketers Do What They Do\", 'embeddings': array([ 0.00958741,  0.00609514,  0.02108929, ..., -0.01749452,\n",
      "       -0.03314401,  0.00367272], dtype=float32)}\n",
      "-------------\n"
     ]
    },
    {
     "ename": "EOFError",
     "evalue": "Ran out of input",
     "output_type": "error",
     "traceback": [
      "\u001b[0;31m---------------------------------------------------------------------------\u001b[0m",
      "\u001b[0;31mEOFError\u001b[0m                                  Traceback (most recent call last)",
      "\u001b[0;32m<ipython-input-9-d4bf409694a2>\u001b[0m in \u001b[0;36m<module>\u001b[0;34m\u001b[0m\n\u001b[1;32m      1\u001b[0m \u001b[0;32mwith\u001b[0m \u001b[0mopen\u001b[0m\u001b[0;34m(\u001b[0m\u001b[0;34m\"../testi.pkl\"\u001b[0m\u001b[0;34m,\u001b[0m \u001b[0;34m\"rb\"\u001b[0m\u001b[0;34m)\u001b[0m \u001b[0;32mas\u001b[0m \u001b[0mf\u001b[0m\u001b[0;34m:\u001b[0m\u001b[0;34m\u001b[0m\u001b[0;34m\u001b[0m\u001b[0m\n\u001b[1;32m      2\u001b[0m     \u001b[0;32mwhile\u001b[0m \u001b[0;32mTrue\u001b[0m\u001b[0;34m:\u001b[0m\u001b[0;34m\u001b[0m\u001b[0;34m\u001b[0m\u001b[0m\n\u001b[0;32m----> 3\u001b[0;31m         \u001b[0mdataset\u001b[0m \u001b[0;34m=\u001b[0m \u001b[0mpickle\u001b[0m\u001b[0;34m.\u001b[0m\u001b[0mload\u001b[0m\u001b[0;34m(\u001b[0m\u001b[0mf\u001b[0m\u001b[0;34m)\u001b[0m\u001b[0;34m\u001b[0m\u001b[0;34m\u001b[0m\u001b[0m\n\u001b[0m\u001b[1;32m      4\u001b[0m         \u001b[0;31m#print(dataset)\u001b[0m\u001b[0;34m\u001b[0m\u001b[0;34m\u001b[0m\u001b[0;34m\u001b[0m\u001b[0m\n\u001b[1;32m      5\u001b[0m         \u001b[0;32mfor\u001b[0m \u001b[0md\u001b[0m \u001b[0;32min\u001b[0m \u001b[0mdataset\u001b[0m\u001b[0;34m:\u001b[0m\u001b[0;34m\u001b[0m\u001b[0;34m\u001b[0m\u001b[0m\n",
      "\u001b[0;31mEOFError\u001b[0m: Ran out of input"
     ]
    }
   ],
   "source": [
    "with open(\"../testi.pkl\", \"rb\") as f:\n",
    "    while True:\n",
    "        dataset = pickle.load(f)\n",
    "        #print(dataset)\n",
    "        for d in dataset:\n",
    "            print(d)\n",
    "        print(\"-------------\")"
   ]
  },
  {
   "cell_type": "code",
   "execution_count": null,
   "metadata": {},
   "outputs": [],
   "source": []
  }
 ],
 "metadata": {
  "kernelspec": {
   "display_name": "Python 3",
   "language": "python",
   "name": "python3"
  },
  "language_info": {
   "codemirror_mode": {
    "name": "ipython",
    "version": 3
   },
   "file_extension": ".py",
   "mimetype": "text/x-python",
   "name": "python",
   "nbconvert_exporter": "python",
   "pygments_lexer": "ipython3",
   "version": "3.6.15"
  }
 },
 "nbformat": 4,
 "nbformat_minor": 2
}
