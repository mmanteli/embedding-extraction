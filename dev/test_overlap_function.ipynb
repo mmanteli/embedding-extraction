{
 "cells": [
  {
   "cell_type": "markdown",
   "metadata": {},
   "source": [
    "# Testing overlapping sections thingy\n",
    "\n",
    "...and making sure overlap==0 works just like normal segmenting"
   ]
  },
  {
   "cell_type": "code",
   "execution_count": 19,
   "metadata": {},
   "outputs": [
    {
     "name": "stdout",
     "output_type": "stream",
     "text": [
      "[10, 20, 30, 40]\n",
      "[0, 10, 20, 30]\n",
      "['This', 'is', 'a', 'test', 'string', 'that', 'I', 'use', 'to', 'see']\n",
      "['if', 'the', 'overlapping', 'segments', 'thingy', 'works,', 'specifically', 'with', 'setting', 'overlap']\n",
      "['to', '0.', \"I'm\", 'also', 'not', 'using', 'the', 'tokenisation', 'here,', 'just']\n",
      "['to', 'make', 'this', 'a', 'little', 'simpler.']\n"
     ]
    }
   ],
   "source": [
    "def text2tokenchunks(line, max_length, overlap):\n",
    "    \"\"\"\n",
    "    turn a text into chunked segments wrt token count\n",
    "    \"\"\"\n",
    "    \n",
    "    input_ids = line.split(\" \")  \n",
    "\n",
    "\n",
    "    if overlap:\n",
    "        k = 1\n",
    "        indices_upper_limits=[max_length]\n",
    "        indices_lower_limits=[0]\n",
    "        while indices_upper_limits[-1] < len(input_ids):\n",
    "            indices_upper_limits.append((k+1)*max_length - k*overlap)\n",
    "            indices_lower_limits.append(indices_upper_limits[-1]-max_length)\n",
    "            k+=1\n",
    "    else: \n",
    "        indices_upper_limits = [i for i in range(max_length, len(input_ids)+max_length, max_length)]\n",
    "        indices_lower_limits = [i for i in range(0, len(input_ids), max_length)]\n",
    "    \n",
    "\n",
    "    # go over the indices and collect results.\n",
    "    chunks=[]\n",
    "    offsets=[]\n",
    "    current_offset = 0\n",
    "    for start, end in zip(indices_lower_limits, indices_upper_limits):\n",
    "        chunked_tokens =input_ids[start:end]\n",
    "        print(chunked_tokens)\n",
    "        chunked_text = \" \".join(chunked_tokens)\n",
    "        chunks.append(chunked_text)\n",
    "        offsets.append(current_offset)\n",
    "        current_offset += len(chunked_text)   # NOTE THIS\n",
    "    #return chunks, [line[\"id\"]]*len(chunks), [line[\"register\"]]*len(chunks), offsets\n",
    "\n",
    "txt = \"This is a test string that I use to see if the overlapping segments thingy works, specifically with setting overlap to 0. I'm also not using the tokenisation here, just to make this a little simpler.\"\n",
    "overlap = 0\n",
    "max_length = 10\n",
    "text2tokenchunks(txt, max_length,overlap)"
   ]
  },
  {
   "cell_type": "code",
   "execution_count": 20,
   "metadata": {},
   "outputs": [],
   "source": [
    "import pickle"
   ]
  },
  {
   "cell_type": "code",
   "execution_count": 24,
   "metadata": {},
   "outputs": [
    {
     "name": "stdout",
     "output_type": "stream",
     "text": [
      "{'id': '1', 'offset': 0, 'register': ['IN', 'lt'], 'text': 'By using Strip Dir to strip this website (alanhodges.com) you agree to the following terms:\\n- You are at least 18 years of age\\n- All persons included in any image/photograph are all at least 18 years ', 'embeddings': array([ 0.01824235,  0.00227498, -0.01856827, ..., -0.03192995,\n",
      "       -0.04727736,  0.01742926], dtype=float32)}\n",
      "{'id': '1', 'offset': 200, 'register': ['IN', 'lt'], 'text': 'l at least 18 years of age\\n- No images/photographs depict any illegal acts or violate laws as they apply within the European Union\\n- Strip Dir is not responsible for any of the user submitted content,', 'embeddings': array([-0.00208058, -0.01760098, -0.01216877, ..., -0.02800006,\n",
      "       -0.06043964,  0.00482061], dtype=float32)}\n",
      "{'id': '1', 'offset': 400, 'register': ['IN', 'lt'], 'text': 'r submitted content, this lies with the original submitting user\\n- Your IP address (207.241.237.220) will be recorded and may be used in the event you violate these terms\\nWe are trying to keep Strip D', 'embeddings': array([ 0.00421746,  0.02913588, -0.02324434, ..., -0.02909308,\n",
      "       -0.03469579,  0.03543362], dtype=float32)}\n",
      "{'id': '1', 'offset': 600, 'register': ['IN', 'lt'], 'text': 'ying to keep Strip Dir nice and clean, without any nasty pictures that violate laws and lives!', 'embeddings': array([-0.02138446, -0.00199737, -0.01147949, ..., -0.03217703,\n",
      "       -0.04038457,  0.00488108], dtype=float32)}\n",
      "-------------\n",
      "{'id': '2', 'offset': 0, 'register': ['IN'], 'text': 'Provalo! Iscriviti a Pinterest oggi stesso... ci vuole solo un secondo o poco più.\\nContent\\nUnderstanding the Complex Brain of a Copywriter #copywriting #mktg #seo\\n10 strategies for turning your online', 'embeddings': array([-0.00191011,  0.01441795,  0.01281356, ..., -0.00793209,\n",
      "       -0.02521892,  0.00472041], dtype=float32)}\n",
      "{'id': '2', 'offset': 200, 'register': ['IN'], 'text': ' turning your online presence #infografia #infographic #marketing\\n11 Essential Ingredients Every Blog Post Needs [Infographic] - Copyblogger\\n16 steps to successful content marketing.\\nKiller Headlines:', 'embeddings': array([ 0.02395472,  0.00832935, -0.00609056, ..., -0.03703583,\n",
      "       -0.03417061,  0.01390249], dtype=float32)}\n",
      "{'id': '2', 'offset': 400, 'register': ['IN'], 'text': \"g.\\nKiller Headlines: The Key to Your Website's Success. More useful tips for writing headlines that pull in readers www.nonprofitcopy....\\n4 U’s of Web Copywriting: Tips for Writing Great Headlines & C\", 'embeddings': array([ 0.01502424,  0.00622268,  0.00725283, ..., -0.01135206,\n",
      "       -0.01940694, -0.01104006], dtype=float32)}\n",
      "{'id': '2', 'offset': 600, 'register': ['IN'], 'text': ' Great Headlines & Copy\\nQuick Reference Guide to #Content Creation #infographic #contentmarketing\\n#ContentMarketing - Why Content Marketers Do What They Do', 'embeddings': array([ 0.0253368 ,  0.01217008, -0.01640185, ..., -0.02990659,\n",
      "       -0.0267901 , -0.01344377], dtype=float32)}\n",
      "-------------\n",
      "{'id': '3', 'offset': 0, 'register': ['IN', 'lt'], 'text': 'Woo woo this is a short test string.', 'embeddings': array([-0.0005271 ,  0.0026263 , -0.00547833, ..., -0.04731699,\n",
      "       -0.022145  ,  0.01876342], dtype=float32)}\n",
      "-------------\n",
      "{'id': '4', 'offset': 0, 'register': ['IN'], 'text': 'Provalo! Iscriviti a Pinterest oggi stesso... ci vuole solo un secondo o poco più.\\nContent\\nUnderstanding the Complex Brain of a Copywriter #copywriting #mktg #seo\\n10 strategies for turning your online', 'embeddings': array([-0.00191011,  0.01441795,  0.01281356, ..., -0.00793209,\n",
      "       -0.02521892,  0.00472041], dtype=float32)}\n",
      "{'id': '4', 'offset': 200, 'register': ['IN'], 'text': ' turning your online presence #infografia #infographic #marketing\\n11 Essential Ingredients Every Blog Post Needs [Infographic] - Copyblogger\\n16 steps to successful content marketing.\\nKiller Headlines:', 'embeddings': array([ 0.02395472,  0.00832935, -0.00609056, ..., -0.03703583,\n",
      "       -0.03417061,  0.01390249], dtype=float32)}\n",
      "{'id': '4', 'offset': 400, 'register': ['IN'], 'text': \"g.\\nKiller Headlines: The Key to Your Website's Success. More useful tips for writing headlines that pull in readers www.nonprofitcopy....\\n4 U’s of Web Copywriting: Tips for Writing Great Headlines & C\", 'embeddings': array([ 0.01502424,  0.00622268,  0.00725283, ..., -0.01135206,\n",
      "       -0.01940694, -0.01104006], dtype=float32)}\n",
      "{'id': '4', 'offset': 600, 'register': ['IN'], 'text': ' Great Headlines & Copy\\nQuick Reference Guide to #Content Creation #infographic #contentmarketing\\n#ContentMarketing - Why Content Marketers Do What They Do', 'embeddings': array([ 0.0253368 ,  0.01217008, -0.01640185, ..., -0.02990659,\n",
      "       -0.0267901 , -0.01344377], dtype=float32)}\n",
      "-------------\n",
      "{'id': '5', 'offset': 0, 'register': ['IN', 'lt'], 'text': 'By using Strip Dir to strip this website (alanhodges.com) you agree to the following terms:\\n- You are at least 18 years of age\\n- All persons included in any image/photograph are all at least 18 years ', 'embeddings': array([ 0.01824235,  0.00227498, -0.01856827, ..., -0.03192995,\n",
      "       -0.04727736,  0.01742926], dtype=float32)}\n",
      "{'id': '5', 'offset': 200, 'register': ['IN', 'lt'], 'text': 'l at least 18 years of age\\n- No images/photographs depict any illegal acts or violate laws as they apply within the European Union\\n- Strip Dir is not responsible for any of the user submitted content,', 'embeddings': array([-0.00208058, -0.01760098, -0.01216877, ..., -0.02800006,\n",
      "       -0.06043964,  0.00482061], dtype=float32)}\n",
      "{'id': '5', 'offset': 400, 'register': ['IN', 'lt'], 'text': 'r submitted content, this lies with the original submitting user\\n- Your IP address (207.241.237.220) will be recorded and may be used in the event you violate these terms\\nWe are trying to keep Strip D', 'embeddings': array([ 0.00421746,  0.02913588, -0.02324434, ..., -0.02909308,\n",
      "       -0.03469579,  0.03543362], dtype=float32)}\n",
      "{'id': '5', 'offset': 600, 'register': ['IN', 'lt'], 'text': 'ying to keep Strip Dir nice and clean, without any nasty pictures that violate laws and lives!', 'embeddings': array([-0.02138446, -0.00199737, -0.01147949, ..., -0.03217703,\n",
      "       -0.04038457,  0.00488108], dtype=float32)}\n",
      "-------------\n",
      "{'id': '6', 'offset': 0, 'register': ['IN'], 'text': 'Provalo! Iscriviti a Pinterest oggi stesso... ci vuole solo un secondo o poco più.\\nContent\\nUnderstanding the Complex Brain of a Copywriter #copywriting #mktg #seo\\n10 strategies for turning your online', 'embeddings': array([-0.00191011,  0.01441795,  0.01281356, ..., -0.00793209,\n",
      "       -0.02521892,  0.00472041], dtype=float32)}\n",
      "{'id': '6', 'offset': 200, 'register': ['IN'], 'text': ' turning your online presence #infografia #infographic #marketing\\n11 Essential Ingredients Every Blog Post Needs [Infographic] - Copyblogger\\n16 steps to successful content marketing.\\nKiller Headlines:', 'embeddings': array([ 0.02395472,  0.00832935, -0.00609056, ..., -0.03703583,\n",
      "       -0.03417061,  0.01390249], dtype=float32)}\n",
      "{'id': '6', 'offset': 400, 'register': ['IN'], 'text': \"g.\\nKiller Headlines: The Key to Your Website's Success. More useful tips for writing headlines that pull in readers www.nonprofitcopy....\\n4 U’s of Web Copywriting: Tips for Writing Great Headlines & C\", 'embeddings': array([ 0.01502424,  0.00622268,  0.00725283, ..., -0.01135206,\n",
      "       -0.01940694, -0.01104006], dtype=float32)}\n",
      "{'id': '6', 'offset': 600, 'register': ['IN'], 'text': ' Great Headlines & Copy\\nQuick Reference Guide to #Content Creation #infographic #contentmarketing\\n#ContentMarketing - Why Content Marketers Do What They Do', 'embeddings': array([ 0.0253368 ,  0.01217008, -0.01640185, ..., -0.02990659,\n",
      "       -0.0267901 , -0.01344377], dtype=float32)}\n",
      "-------------\n",
      "{'id': '7', 'offset': 0, 'register': ['IN', 'lt'], 'text': 'By using Strip Dir to strip this website (alanhodges.com) you agree to the following terms:\\n- You are at least 18 years of age\\n- All persons included in any image/photograph are all at least 18 years ', 'embeddings': array([ 0.01824235,  0.00227498, -0.01856827, ..., -0.03192995,\n",
      "       -0.04727736,  0.01742926], dtype=float32)}\n",
      "{'id': '7', 'offset': 200, 'register': ['IN', 'lt'], 'text': 'l at least 18 years of age\\n- No images/photographs depict any illegal acts or violate laws as they apply within the European Union\\n- Strip Dir is not responsible for any of the user submitted content,', 'embeddings': array([-0.00208058, -0.01760098, -0.01216877, ..., -0.02800006,\n",
      "       -0.06043964,  0.00482061], dtype=float32)}\n",
      "{'id': '7', 'offset': 400, 'register': ['IN', 'lt'], 'text': 'r submitted content, this lies with the original submitting user\\n- Your IP address (207.241.237.220) will be recorded and may be used in the event you violate these terms\\nWe are trying to keep Strip D', 'embeddings': array([ 0.00421746,  0.02913588, -0.02324434, ..., -0.02909308,\n",
      "       -0.03469579,  0.03543362], dtype=float32)}\n",
      "{'id': '7', 'offset': 600, 'register': ['IN', 'lt'], 'text': 'ying to keep Strip Dir nice and clean, without any nasty pictures that violate laws and lives!', 'embeddings': array([-0.02138446, -0.00199737, -0.01147949, ..., -0.03217703,\n",
      "       -0.04038457,  0.00488108], dtype=float32)}\n",
      "-------------\n",
      "{'id': '8', 'offset': 0, 'register': ['IN'], 'text': 'Provalo! Iscriviti a Pinterest oggi stesso... ci vuole solo un secondo o poco più.\\nContent\\nUnderstanding the Complex Brain of a Copywriter #copywriting #mktg #seo\\n10 strategies for turning your online', 'embeddings': array([-0.00191011,  0.01441795,  0.01281356, ..., -0.00793209,\n",
      "       -0.02521892,  0.00472041], dtype=float32)}\n",
      "{'id': '8', 'offset': 200, 'register': ['IN'], 'text': ' turning your online presence #infografia #infographic #marketing\\n11 Essential Ingredients Every Blog Post Needs [Infographic] - Copyblogger\\n16 steps to successful content marketing.\\nKiller Headlines:', 'embeddings': array([ 0.02395472,  0.00832935, -0.00609056, ..., -0.03703583,\n",
      "       -0.03417061,  0.01390249], dtype=float32)}\n",
      "{'id': '8', 'offset': 400, 'register': ['IN'], 'text': \"g.\\nKiller Headlines: The Key to Your Website's Success. More useful tips for writing headlines that pull in readers www.nonprofitcopy....\\n4 U’s of Web Copywriting: Tips for Writing Great Headlines & C\", 'embeddings': array([ 0.01502424,  0.00622268,  0.00725283, ..., -0.01135206,\n",
      "       -0.01940694, -0.01104006], dtype=float32)}\n",
      "{'id': '8', 'offset': 600, 'register': ['IN'], 'text': ' Great Headlines & Copy\\nQuick Reference Guide to #Content Creation #infographic #contentmarketing\\n#ContentMarketing - Why Content Marketers Do What They Do', 'embeddings': array([ 0.0253368 ,  0.01217008, -0.01640185, ..., -0.02990659,\n",
      "       -0.0267901 , -0.01344377], dtype=float32)}\n",
      "-------------\n",
      "{'id': '9', 'offset': 0, 'register': ['IN', 'lt'], 'text': 'By using Strip Dir to strip this website (alanhodges.com) you agree to the following terms:\\n- You are at least 18 years of age\\n- All persons included in any image/photograph are all at least 18 years ', 'embeddings': array([ 0.01824235,  0.00227498, -0.01856827, ..., -0.03192995,\n",
      "       -0.04727736,  0.01742926], dtype=float32)}\n",
      "{'id': '9', 'offset': 200, 'register': ['IN', 'lt'], 'text': 'l at least 18 years of age\\n- No images/photographs depict any illegal acts or violate laws as they apply within the European Union\\n- Strip Dir is not responsible for any of the user submitted content,', 'embeddings': array([-0.00208058, -0.01760098, -0.01216877, ..., -0.02800006,\n",
      "       -0.06043964,  0.00482061], dtype=float32)}\n",
      "{'id': '9', 'offset': 400, 'register': ['IN', 'lt'], 'text': 'r submitted content, this lies with the original submitting user\\n- Your IP address (207.241.237.220) will be recorded and may be used in the event you violate these terms\\nWe are trying to keep Strip D', 'embeddings': array([ 0.00421746,  0.02913588, -0.02324434, ..., -0.02909308,\n",
      "       -0.03469579,  0.03543362], dtype=float32)}\n",
      "{'id': '9', 'offset': 600, 'register': ['IN', 'lt'], 'text': 'ying to keep Strip Dir nice and clean, without any nasty pictures that violate laws and lives!', 'embeddings': array([-0.02138446, -0.00199737, -0.01147949, ..., -0.03217703,\n",
      "       -0.04038457,  0.00488108], dtype=float32)}\n",
      "-------------\n",
      "{'id': '10', 'offset': 0, 'register': ['IN'], 'text': 'Provalo! Iscriviti a Pinterest oggi stesso... ci vuole solo un secondo o poco più.\\nContent\\nUnderstanding the Complex Brain of a Copywriter #copywriting #mktg #seo\\n10 strategies for turning your online', 'embeddings': array([-0.00191011,  0.01441795,  0.01281356, ..., -0.00793209,\n",
      "       -0.02521892,  0.00472041], dtype=float32)}\n",
      "{'id': '10', 'offset': 200, 'register': ['IN'], 'text': ' turning your online presence #infografia #infographic #marketing\\n11 Essential Ingredients Every Blog Post Needs [Infographic] - Copyblogger\\n16 steps to successful content marketing.\\nKiller Headlines:', 'embeddings': array([ 0.02395472,  0.00832935, -0.00609056, ..., -0.03703583,\n",
      "       -0.03417061,  0.01390249], dtype=float32)}\n",
      "{'id': '10', 'offset': 400, 'register': ['IN'], 'text': \"g.\\nKiller Headlines: The Key to Your Website's Success. More useful tips for writing headlines that pull in readers www.nonprofitcopy....\\n4 U’s of Web Copywriting: Tips for Writing Great Headlines & C\", 'embeddings': array([ 0.01502424,  0.00622268,  0.00725283, ..., -0.01135206,\n",
      "       -0.01940694, -0.01104006], dtype=float32)}\n",
      "{'id': '10', 'offset': 600, 'register': ['IN'], 'text': ' Great Headlines & Copy\\nQuick Reference Guide to #Content Creation #infographic #contentmarketing\\n#ContentMarketing - Why Content Marketers Do What They Do', 'embeddings': array([ 0.0253368 ,  0.01217008, -0.01640185, ..., -0.02990659,\n",
      "       -0.0267901 , -0.01344377], dtype=float32)}\n",
      "-------------\n"
     ]
    },
    {
     "ename": "EOFError",
     "evalue": "Ran out of input",
     "output_type": "error",
     "traceback": [
      "\u001b[0;31m---------------------------------------------------------------------------\u001b[0m",
      "\u001b[0;31mEOFError\u001b[0m                                  Traceback (most recent call last)",
      "\u001b[0;32m<ipython-input-24-ad681a0813cb>\u001b[0m in \u001b[0;36m<module>\u001b[0;34m\u001b[0m\n\u001b[1;32m      1\u001b[0m \u001b[0;32mwith\u001b[0m \u001b[0mopen\u001b[0m\u001b[0;34m(\u001b[0m\u001b[0;34m\"overlap_chars_test.pkl\"\u001b[0m\u001b[0;34m,\u001b[0m \u001b[0;34m\"rb\"\u001b[0m\u001b[0;34m)\u001b[0m \u001b[0;32mas\u001b[0m \u001b[0mf\u001b[0m\u001b[0;34m:\u001b[0m\u001b[0;34m\u001b[0m\u001b[0;34m\u001b[0m\u001b[0m\n\u001b[1;32m      2\u001b[0m     \u001b[0;32mwhile\u001b[0m \u001b[0;32mTrue\u001b[0m\u001b[0;34m:\u001b[0m\u001b[0;34m\u001b[0m\u001b[0;34m\u001b[0m\u001b[0m\n\u001b[0;32m----> 3\u001b[0;31m         \u001b[0mdataset\u001b[0m \u001b[0;34m=\u001b[0m \u001b[0mpickle\u001b[0m\u001b[0;34m.\u001b[0m\u001b[0mload\u001b[0m\u001b[0;34m(\u001b[0m\u001b[0mf\u001b[0m\u001b[0;34m)\u001b[0m\u001b[0;34m\u001b[0m\u001b[0;34m\u001b[0m\u001b[0m\n\u001b[0m\u001b[1;32m      4\u001b[0m         \u001b[0;31m#print(dataset)\u001b[0m\u001b[0;34m\u001b[0m\u001b[0;34m\u001b[0m\u001b[0;34m\u001b[0m\u001b[0m\n\u001b[1;32m      5\u001b[0m         \u001b[0;32mfor\u001b[0m \u001b[0md\u001b[0m \u001b[0;32min\u001b[0m \u001b[0mdataset\u001b[0m\u001b[0;34m:\u001b[0m\u001b[0;34m\u001b[0m\u001b[0;34m\u001b[0m\u001b[0m\n",
      "\u001b[0;31mEOFError\u001b[0m: Ran out of input"
     ]
    }
   ],
   "source": [
    "with open(\"overlap_chars_test.pkl\", \"rb\") as f:\n",
    "    while True:\n",
    "        dataset = pickle.load(f)\n",
    "        #print(dataset)\n",
    "        for d in dataset:\n",
    "            print(d)\n",
    "        print(\"-------------\")"
   ]
  },
  {
   "cell_type": "code",
   "execution_count": null,
   "metadata": {},
   "outputs": [],
   "source": []
  }
 ],
 "metadata": {
  "kernelspec": {
   "display_name": "Python 3",
   "language": "python",
   "name": "python3"
  },
  "language_info": {
   "codemirror_mode": {
    "name": "ipython",
    "version": 3
   },
   "file_extension": ".py",
   "mimetype": "text/x-python",
   "name": "python",
   "nbconvert_exporter": "python",
   "pygments_lexer": "ipython3",
   "version": "3.6.15"
  }
 },
 "nbformat": 4,
 "nbformat_minor": 2
}
