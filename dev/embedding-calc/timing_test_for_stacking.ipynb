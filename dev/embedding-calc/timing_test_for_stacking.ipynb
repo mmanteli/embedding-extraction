{
 "cells": [
  {
   "cell_type": "markdown",
   "metadata": {},
   "source": [
    "# Timing tests\n",
    "\n",
    "Seeing which is faster (probably vstack only once)."
   ]
  },
  {
   "cell_type": "code",
   "execution_count": 40,
   "metadata": {},
   "outputs": [],
   "source": [
    "setup1 = \"import numpy; a = numpy.array([i for i in range(1024)]); numpy.random.shuffle(a); emb = []\"\n",
    "setup2 = \"import numpy; a = numpy.array([i for i in range(1024)]); numpy.random.shuffle(a); emb = None\""
   ]
  },
  {
   "cell_type": "code",
   "execution_count": 34,
   "metadata": {},
   "outputs": [],
   "source": [
    "first_way =\"\"\"\n",
    "for i in range(1000):\n",
    "    emb.append(a)\n",
    "emb=numpy.vstack([e for e in emb])\n",
    "emb = []\"\"\"\n",
    "second_way = \"\"\"\n",
    "for i in range(1000):\n",
    "    if emb is not None:\n",
    "        emb = numpy.vstack((emb,a))\n",
    "    else:\n",
    "        emb=a\n",
    "emb=None\"\"\""
   ]
  },
  {
   "cell_type": "code",
   "execution_count": 35,
   "metadata": {},
   "outputs": [],
   "source": [
    "import timeit"
   ]
  },
  {
   "cell_type": "code",
   "execution_count": 37,
   "metadata": {},
   "outputs": [
    {
     "data": {
      "text/plain": [
       "1.6925627058371902"
      ]
     },
     "execution_count": 37,
     "metadata": {},
     "output_type": "execute_result"
    }
   ],
   "source": [
    "timeit.timeit(first_way, number=1000, setup=setup1)"
   ]
  },
  {
   "cell_type": "code",
   "execution_count": 38,
   "metadata": {},
   "outputs": [
    {
     "data": {
      "text/plain": [
       "738.4243913181126"
      ]
     },
     "execution_count": 38,
     "metadata": {},
     "output_type": "execute_result"
    }
   ],
   "source": [
    "timeit.timeit(second_way, number=1000, setup=setup2)\n",
    "#timeit.timeit('for i in range(1000):\\n\\tif emb is not None:\\n\\t\\tnumpy.vstack((emb,a))\\n\\telse:\\n\\t\\temb = a\\nemb=None', number=1000, setup='import numpy; a = numpy.array([i for i in range(1024)]); numpy.random.shuffle(a); emb = None')"
   ]
  },
  {
   "cell_type": "code",
   "execution_count": 25,
   "metadata": {},
   "outputs": [],
   "source": [
    "emb1 = []\n",
    "for i in range(1000):\n",
    "    emb1.append(a)\n",
    "emb1=numpy.vstack([e for e in emb1])\n",
    "\n",
    "emb2=None\n",
    "for i in range(1000):\n",
    "    if emb2 is not None:\n",
    "        emb2 = numpy.vstack((emb2,a))\n",
    "    else:\n",
    "        emb2=a\n"
   ]
  },
  {
   "cell_type": "code",
   "execution_count": 39,
   "metadata": {},
   "outputs": [
    {
     "name": "stdout",
     "output_type": "stream",
     "text": [
      "True\n",
      "[[436 641 496 ... 392 315 608]\n",
      " [436 641 496 ... 392 315 608]\n",
      " [436 641 496 ... 392 315 608]\n",
      " ...\n",
      " [436 641 496 ... 392 315 608]\n",
      " [436 641 496 ... 392 315 608]\n",
      " [436 641 496 ... 392 315 608]]\n"
     ]
    }
   ],
   "source": [
    "print((emb1==emb2).all())\n",
    "print(emb1)"
   ]
  },
  {
   "cell_type": "code",
   "execution_count": null,
   "metadata": {},
   "outputs": [],
   "source": []
  }
 ],
 "metadata": {
  "kernelspec": {
   "display_name": "Python 3",
   "language": "python",
   "name": "python3"
  },
  "language_info": {
   "codemirror_mode": {
    "name": "ipython",
    "version": 3
   },
   "file_extension": ".py",
   "mimetype": "text/x-python",
   "name": "python",
   "nbconvert_exporter": "python",
   "pygments_lexer": "ipython3",
   "version": "3.6.15"
  }
 },
 "nbformat": 4,
 "nbformat_minor": 2
}
