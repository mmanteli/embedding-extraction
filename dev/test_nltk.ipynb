{
 "cells": [
  {
   "cell_type": "code",
   "execution_count": 1,
   "metadata": {},
   "outputs": [
    {
     "name": "stdout",
     "output_type": "stream",
     "text": [
      "Defaulting to user installation because normal site-packages is not writeable\n",
      "Collecting nltk\n",
      "  Downloading nltk-3.6.7-py3-none-any.whl (1.5 MB)\n",
      "\u001b[K     |████████████████████████████████| 1.5 MB 5.8 MB/s eta 0:00:01\n",
      "\u001b[?25hRequirement already satisfied: click in /pfs/lustrep4/users/mynttiam/.local/lib/python3.6/site-packages (from nltk) (8.0.4)\n",
      "Requirement already satisfied: regex>=2021.8.3 in /pfs/lustrep4/users/mynttiam/.local/lib/python3.6/site-packages (from nltk) (2023.8.8)\n",
      "Requirement already satisfied: tqdm in /pfs/lustrep4/users/mynttiam/.local/lib/python3.6/site-packages (from nltk) (4.64.1)\n",
      "Requirement already satisfied: joblib in /pfs/lustrep4/users/mynttiam/.local/lib/python3.6/site-packages (from nltk) (1.1.1)\n",
      "Requirement already satisfied: importlib-metadata; python_version < \"3.8\" in /pfs/lustrep4/users/mynttiam/.local/lib/python3.6/site-packages (from click->nltk) (4.8.3)\n",
      "Requirement already satisfied: importlib-resources; python_version < \"3.7\" in /pfs/lustrep4/users/mynttiam/.local/lib/python3.6/site-packages (from tqdm->nltk) (5.4.0)\n",
      "Requirement already satisfied: typing-extensions>=3.6.4; python_version < \"3.8\" in /pfs/lustrep4/users/mynttiam/.local/lib/python3.6/site-packages (from importlib-metadata; python_version < \"3.8\"->click->nltk) (4.1.1)\n",
      "Requirement already satisfied: zipp>=0.5 in /pfs/lustrep4/users/mynttiam/.local/lib/python3.6/site-packages (from importlib-metadata; python_version < \"3.8\"->click->nltk) (3.6.0)\n",
      "Installing collected packages: nltk\n",
      "Successfully installed nltk-3.6.7\n",
      "Note: you may need to restart the kernel to use updated packages.\n"
     ]
    }
   ],
   "source": [
    "pip install nltk"
   ]
  },
  {
   "cell_type": "code",
   "execution_count": 10,
   "metadata": {},
   "outputs": [
    {
     "name": "stderr",
     "output_type": "stream",
     "text": [
      "[nltk_data] Downloading package punkt to /users/mynttiam/nltk_data...\n",
      "[nltk_data]   Package punkt is already up-to-date!\n"
     ]
    },
    {
     "data": {
      "text/plain": [
       "True"
      ]
     },
     "execution_count": 10,
     "metadata": {},
     "output_type": "execute_result"
    }
   ],
   "source": [
    "import nltk\n",
    "nltk.download('punkt')"
   ]
  },
  {
   "cell_type": "code",
   "execution_count": 6,
   "metadata": {},
   "outputs": [
    {
     "data": {
      "text/plain": [
       "['Hi, how are you?', 'I have been doing great lately']"
      ]
     },
     "execution_count": 6,
     "metadata": {},
     "output_type": "execute_result"
    }
   ],
   "source": [
    "text= \"Hi, how are you? I have been doing great lately\"\n",
    "\n",
    "nltk.tokenize.sent_tokenize(text, language='english')\n"
   ]
  },
  {
   "cell_type": "code",
   "execution_count": 9,
   "metadata": {},
   "outputs": [
    {
     "data": {
      "text/plain": [
       "['Hi, how are you?', 'I have been doing gr', 'eat lately']"
      ]
     },
     "execution_count": 9,
     "metadata": {},
     "output_type": "execute_result"
    }
   ],
   "source": [
    "def divide_sentences(text, chunk_size=20):\n",
    "    sentences = nltk.tokenize.sent_tokenize(text, language='english')\n",
    "    segmented = []\n",
    "    for s in sentences:\n",
    "        if len(s) < chunk_size:\n",
    "            segmented.append(s)\n",
    "        else:\n",
    "            for chunk_offset in range(0,len(s),chunk_size):\n",
    "                segmented.append(s[chunk_offset:chunk_offset+chunk_size])\n",
    "    return segmented\n",
    "\n",
    "text= \"Hi, how are you? I have been doing great lately\"\n",
    "divide_sentences(text)"
   ]
  },
  {
   "cell_type": "code",
   "execution_count": null,
   "metadata": {},
   "outputs": [],
   "source": []
  }
 ],
 "metadata": {
  "kernelspec": {
   "display_name": "Python 3",
   "language": "python",
   "name": "python3"
  },
  "language_info": {
   "codemirror_mode": {
    "name": "ipython",
    "version": 3
   },
   "file_extension": ".py",
   "mimetype": "text/x-python",
   "name": "python",
   "nbconvert_exporter": "python",
   "pygments_lexer": "ipython3",
   "version": "3.6.15"
  }
 },
 "nbformat": 4,
 "nbformat_minor": 2
}
